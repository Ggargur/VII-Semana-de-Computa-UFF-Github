{
 "cells": [
  {
   "cell_type": "markdown",
   "metadata": {},
   "source": [
    "Implemente uma agenda de contatos em Python que pode ser feito em grupo de 2 a 5 pessoas para praticar o versionamento de código em equipe.\n",
    "\n",
    "Crie um repositório Git para o projeto e divida as tarefas entre os membros da equipe. Teste prático de como clonar o repositório, criar ramificações, realizar commits e mesclar as alterações. Também é importante definir um fluxo de trabalho claro, como quem será responsável por quais partes do código.\n",
    "\n",
    "Implementem uma agenda básica com as funcionalidade:\n",
    "\n",
    "- Adicionar contatos.\n",
    "- Listar contatos.\n",
    "- Buscar contatos.\n",
    "- Deletar contatos.\n",
    "- Menu iterativo das opções anteriores."
   ]
  },
  {
   "cell_type": "code",
   "execution_count": 45,
   "metadata": {},
   "outputs": [],
   "source": [
    "class Contact:\n",
    "\n",
    "    def __init__(self,name : str, tel : str) -> None:\n",
    "        self.name = name\n",
    "        self.tel = tel"
   ]
  },
  {
   "cell_type": "code",
   "execution_count": 46,
   "metadata": {},
   "outputs": [],
   "source": [
    "contacts = []"
   ]
  },
  {
   "cell_type": "code",
   "execution_count": 47,
   "metadata": {},
   "outputs": [],
   "source": [
    "def add_contact(name : str, tel : str):\n",
    "    global contacts\n",
    "    contacts.append(Contact(name, tel))"
   ]
  },
  {
   "cell_type": "code",
   "execution_count": 48,
   "metadata": {},
   "outputs": [],
   "source": [
    "def print_contact(contact : Contact):\n",
    "    print(f\"Nome: {contact.name}\\nTelefone: {contact.tel}\")"
   ]
  },
  {
   "cell_type": "code",
   "execution_count": 49,
   "metadata": {},
   "outputs": [],
   "source": [
    "def list_contacts():\n",
    "    global contacts\n",
    "    for contact in contacts:\n",
    "        print_contact(contact)"
   ]
  },
  {
   "cell_type": "code",
   "execution_count": 50,
   "metadata": {},
   "outputs": [],
   "source": [
    "def delete_contacts(name : str, tel : str):\n",
    "    global contacts\n",
    "    for contact in contacts:\n",
    "        if(contact.name == name and contact.tel == tel):\n",
    "            contacts.remove(contact)"
   ]
  },
  {
   "cell_type": "code",
   "execution_count": 51,
   "metadata": {},
   "outputs": [],
   "source": [
    "def get_contact(index : int):\n",
    "    global contacts\n",
    "    return contacts[index]"
   ]
  },
  {
   "cell_type": "code",
   "execution_count": 55,
   "metadata": {},
   "outputs": [
    {
     "name": "stdout",
     "output_type": "stream",
     "text": [
      "Aperte 1 para adicionar.\n",
      "2 para listar. \n",
      "3 para deletar. \n",
      "4 para retornar um contato.\n",
      "Nome:Gabriel\n",
      "Telefone:123\n",
      "Nome:A\n",
      "Telefone:1234\n"
     ]
    }
   ],
   "source": [
    "print(\"Aperte 1 para adicionar.\\n2 para listar. \\n3 para deletar. \\n4 para retornar um contato.\")\n",
    "inp = int(input(\"Coloque teu Input...\"))\n",
    "\n",
    "if inp == 1:\n",
    "    add_contact(input(\"Nome:\"),input(\"Telefone:\"))\n",
    "elif inp == 2:\n",
    "    list_contacts()\n",
    "elif inp == 3:\n",
    "    add_contact(input(\"Nome:\"),input(\"Telefone:\"))\n",
    "elif inp == 4:\n",
    "    print_contact(get_contact(input(\"Diga o índice do contato\")))"
   ]
  }
 ],
 "metadata": {
  "kernelspec": {
   "display_name": "Python 3",
   "language": "python",
   "name": "python3"
  },
  "language_info": {
   "codemirror_mode": {
    "name": "ipython",
    "version": 3
   },
   "file_extension": ".py",
   "mimetype": "text/x-python",
   "name": "python",
   "nbconvert_exporter": "python",
   "pygments_lexer": "ipython3",
   "version": "3.10.12"
  }
 },
 "nbformat": 4,
 "nbformat_minor": 2
}
